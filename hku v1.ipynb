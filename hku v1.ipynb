{
 "cells": [
  {
   "cell_type": "code",
   "execution_count": 1,
   "metadata": {},
   "outputs": [],
   "source": [
    "import pandas as pd\n",
    "import numpy as np\n",
    "from sklearn.linear_model import LinearRegression as LR\n",
    "import re\n",
    "from sklearn.linear_model import Ridge\n",
    "from functools import reduce\n",
    "import matplotlib.pyplot as plt"
   ]
  },
  {
   "cell_type": "code",
   "execution_count": 2,
   "metadata": {},
   "outputs": [],
   "source": [
    "trade_df = pd.read_csv('first_round_train_market_data.csv')\n",
    "fundamental_df  = pd.read_csv('first_round_train_fundamental_data.csv')\n",
    "ret_df = pd.read_csv('first_round_train_return_data.csv')"
   ]
  },
  {
   "cell_type": "markdown",
   "metadata": {},
   "source": [
    "### 处理数据字段 <br>"
   ]
  },
  {
   "cell_type": "code",
   "execution_count": 3,
   "metadata": {},
   "outputs": [],
   "source": [
    "fundamental_df.loc[:,'stk'] = fundamental_df.date_time.apply(lambda x:x.split('d',1)[0])\n",
    "fundamental_df.loc[:,'date'] = fundamental_df.date_time.apply(lambda x:int(x.split('d',1)[1]))\n",
    "\n",
    "ret_df.loc[:,'stk'] = ret_df.date_time.apply(lambda x:x.split('d',1)[0])\n",
    "ret_df.loc[:,'date'] = ret_df.date_time.apply(lambda x:int(x.split('d',1)[1]))"
   ]
  },
  {
   "cell_type": "code",
   "execution_count": 4,
   "metadata": {},
   "outputs": [],
   "source": [
    "trade_df.loc[:,'stk'] =  trade_df.date_time.apply(lambda x:x.split('d',1)[0])\n",
    "trade_df.loc[:,'date_'] =trade_df.date_time.apply(lambda x:x.split('d',1)[1])\n",
    "trade_df.loc[:,'date'] =trade_df.date_.apply(lambda x:int(x.split('p',1)[0]))\n",
    "trade_df.loc[:,'time'] = trade_df.date_.apply(lambda x:int(x.split('p',1)[1]))"
   ]
  },
  {
   "cell_type": "markdown",
   "metadata": {},
   "source": [
    "### 处理日内特征值 <br>\n",
    "#### 扩展成 日内分钟收益波动率、日级别短期动量等特征值 <br>"
   ]
  },
  {
   "cell_type": "code",
   "execution_count": 5,
   "metadata": {},
   "outputs": [],
   "source": [
    "trade_df.loc[:,'low_high'] = (trade_df['high'] / trade_df['low'])-1\n",
    "trade_df.loc[:,'chg_Min'] = (trade_df['close'] / trade_df['open'])-1"
   ]
  },
  {
   "cell_type": "code",
   "execution_count": 6,
   "metadata": {},
   "outputs": [],
   "source": [
    "day_chg = trade_df.groupby(['stk','date']).chg_Min.sum().reset_index()\n",
    "day_chg.columns = ['stk','date','chg']\n",
    "\n",
    "Vol_Inday = trade_df.groupby(['stk','date']).low_high.std().reset_index()\n",
    "Vol_Inday.columns = ['stk','date','Vol_Inday']\n",
    "\n",
    "Skew_Inday = trade_df.groupby(['stk','date']).chg_Min.skew().reset_index()\n",
    "Skew_Inday.columns = ['stk','date','Skew_Inday']\n",
    "\n",
    "AmtStd_Inday = trade_df.groupby(['stk','date']).money.std().reset_index()\n",
    "AmtStd_Inday.columns = ['stk','date','AmtStd_Inday']"
   ]
  },
  {
   "cell_type": "markdown",
   "metadata": {},
   "source": [
    "### 处理日间因子 <br>\n",
    "#### Momentun、reverse、ROE、PB、PE、Vol、Vol_Inday、Skew_Inday、AmtStd_Inday、turnoverRatio<br>"
   ]
  },
  {
   "cell_type": "code",
   "execution_count": 7,
   "metadata": {},
   "outputs": [],
   "source": [
    "stk_ls = np.unique(day_chg.stk)\n",
    "ls = []\n",
    "for code in stk_ls:\n",
    "    stk_series =  day_chg[day_chg.stk==code].copy()\n",
    "    stk_series.chg = np.log(stk_series.chg+1)\n",
    "    stk_series.loc[:,'Trand'] = stk_series.chg.rolling(252).sum()\n",
    "    stk_series.loc[:,'Reverse'] = stk_series.chg.rolling(21).sum()\n",
    "    stk_series.loc[:,'Momentum'] = stk_series.Trand - stk_series.Reverse\n",
    "    ls.append(stk_series[['stk','date','Momentum','Reverse']])\n",
    "    pass\n",
    "df_M = pd.concat(ls, ignore_index=True)"
   ]
  },
  {
   "cell_type": "code",
   "execution_count": 8,
   "metadata": {},
   "outputs": [],
   "source": [
    "fundamental_df.loc[:,'ROE'] = fundamental_df.pb / fundamental_df.pe_ttm"
   ]
  },
  {
   "cell_type": "code",
   "execution_count": 9,
   "metadata": {},
   "outputs": [],
   "source": [
    "ls_PETS = []\n",
    "for code in stk_ls:\n",
    "    \n",
    "    stk_series_fundamental =  fundamental_df.loc[(fundamental_df.stk==code),('stk','date','pe_ttm')].copy()\n",
    "    stk_series_fundamental.loc[:,'ts_PE'] = (stk_series_fundamental.pe_ttm - stk_series_fundamental.pe_ttm.rolling(125).mean())\\\n",
    "    /stk_series_fundamental.pe_ttm.rolling(125).std()\n",
    "    ls_PETS.append(stk_series_fundamental[['stk','date','ts_PE']])\n",
    "    pass\n",
    "df_TSPE = pd.concat(ls_PETS, ignore_index=True)"
   ]
  },
  {
   "cell_type": "markdown",
   "metadata": {},
   "source": [
    "### 合并因子DataFrame <br>"
   ]
  },
  {
   "cell_type": "code",
   "execution_count": 10,
   "metadata": {},
   "outputs": [],
   "source": [
    "ls = [Vol_Inday, Skew_Inday, AmtStd_Inday, df_M, df_TSPE, fundamental_df]\n",
    "df = reduce(lambda left,right:pd.merge(left, right, on=['stk','date']),ls)"
   ]
  },
  {
   "cell_type": "code",
   "execution_count": 11,
   "metadata": {},
   "outputs": [],
   "source": [
    "df.AmtStd_Inday = df.AmtStd_Inday/df.transactionAmount"
   ]
  },
  {
   "cell_type": "code",
   "execution_count": 12,
   "metadata": {},
   "outputs": [],
   "source": [
    "df_Factor = df[['stk','date','Vol_Inday','AmtStd_Inday','Momentum','Reverse','ts_PE','turnoverRatio','pe_ttm',\\\n",
    "               'ROE','pb','ps','pcf']].copy()\n",
    "df_Factor = df_Factor.sort_values(by=['date','stk'])\n",
    "df_Factor = df_Factor[df_Factor.date>251]"
   ]
  },
  {
   "cell_type": "markdown",
   "metadata": {},
   "source": [
    "### 对因子值进行Z_score <br>"
   ]
  },
  {
   "cell_type": "code",
   "execution_count": 13,
   "metadata": {},
   "outputs": [],
   "source": [
    "date_index = df_Factor.date.unique()\n",
    "ls_score = []\n",
    "for date in date_index:\n",
    "    cross_df = df_Factor[df_Factor.date==date].copy()\n",
    "    for j in range(2,cross_df.shape[1]):\n",
    "        cross_df.iloc[:,j] = (cross_df.iloc[:,j] - cross_df.iloc[:,j].mean())/cross_df.iloc[:,j].std()\n",
    "        pass\n",
    "    ls_score.append(cross_df)\n",
    "    pass\n",
    "df_score = pd.concat(ls_score, ignore_index=True)"
   ]
  },
  {
   "cell_type": "code",
   "execution_count": 14,
   "metadata": {},
   "outputs": [],
   "source": [
    "reg_df = pd.merge(df_score, ret_df[['stk','date','return']],on=['date','stk'])"
   ]
  },
  {
   "cell_type": "code",
   "execution_count": 15,
   "metadata": {},
   "outputs": [],
   "source": [
    "X = np.array(reg_df.iloc[:,2:-1])\n",
    "y = np.array(reg_df.iloc[:,-1])"
   ]
  },
  {
   "cell_type": "code",
   "execution_count": 16,
   "metadata": {},
   "outputs": [],
   "source": [
    "X[np.isnan(X)] = 0\n",
    "X[np.isinf(X)] = 0"
   ]
  },
  {
   "cell_type": "code",
   "execution_count": 17,
   "metadata": {},
   "outputs": [],
   "source": [
    "reg = Ridge(alpha=1.0).fit(X,y)"
   ]
  },
  {
   "cell_type": "code",
   "execution_count": 24,
   "metadata": {},
   "outputs": [
    {
     "data": {
      "text/plain": [
       "Ridge(alpha=1.0, copy_X=True, fit_intercept=True, max_iter=None,\n",
       "      normalize=False, random_state=None, solver='auto', tol=0.001)"
      ]
     },
     "execution_count": 24,
     "metadata": {},
     "output_type": "execute_result"
    }
   ],
   "source": [
    "reg"
   ]
  },
  {
   "cell_type": "markdown",
   "metadata": {},
   "source": [
    "### InSample <br>"
   ]
  },
  {
   "cell_type": "code",
   "execution_count": 18,
   "metadata": {},
   "outputs": [],
   "source": [
    "y_predict = reg.predict(X)"
   ]
  },
  {
   "cell_type": "code",
   "execution_count": 19,
   "metadata": {},
   "outputs": [],
   "source": [
    "Test_df = reg_df[['stk','date','return']].copy()\n",
    "Test_df.loc[:,'predict_'] = y_predict"
   ]
  },
  {
   "cell_type": "code",
   "execution_count": 20,
   "metadata": {},
   "outputs": [],
   "source": [
    "date_index_test = Test_df.date.unique()\n",
    "ls_ret = []\n",
    "N = 5\n",
    "for date in date_index_test:\n",
    "    test_cross = Test_df[Test_df.date==date].sort_values(by='predict_',ascending=False)\n",
    "    ls_cross = [date]\n",
    "    g_ls = np.array_split(test_cross, N)\n",
    "    for g in g_ls:\n",
    "        ls_cross.append(g['return'].mean())\n",
    "        pass\n",
    "    cross_arr = np.array(ls_cross).reshape(1,-1)\n",
    "    ls_ret.append(cross_arr)\n",
    "    pass\n",
    "retArr = np.concatenate(ls_ret, axis=0)"
   ]
  },
  {
   "cell_type": "markdown",
   "metadata": {},
   "source": [
    "### 多因子模型分组收益率 <br>"
   ]
  },
  {
   "cell_type": "code",
   "execution_count": 21,
   "metadata": {},
   "outputs": [
    {
     "data": {
      "image/png": "[encoded data removed]",
      "text/plain": [
       "<Figure size 432x288 with 1 Axes>"
      ]
     },
     "metadata": {
      "needs_background": "light"
     },
     "output_type": "display_data"
    }
   ],
   "source": [
    "plt.plot(np.cumsum(retArr[:,1:],axis=0));"
   ]
  },
  {
   "cell_type": "code",
   "execution_count": 22,
   "metadata": {
    "scrolled": true
   },
   "outputs": [
    {
     "data": {
      "image/png": "[encoded data removed]",
      "text/plain": [
       "<Figure size 432x288 with 1 Axes>"
      ]
     },
     "metadata": {
      "needs_background": "light"
     },
     "output_type": "display_data"
    }
   ],
   "source": [
    "plt.bar(np.arange(retArr.shape[1]-1),np.sum(retArr[:,1:],axis=0));"
   ]
  },
  {
   "cell_type": "code",
   "execution_count": 23,
   "metadata": {},
   "outputs": [
    {
     "data": {
      "image/png": "[encoded data removed]",
      "text/plain": [
       "<Figure size 432x288 with 1 Axes>"
      ]
     },
     "metadata": {
      "needs_background": "light"
     },
     "output_type": "display_data"
    }
   ],
   "source": [
    "plt.plot(np.cumsum(retArr[:,2] - retArr[:,-1],axis=0));"
   ]
  }
 ],
 "metadata": {
  "kernelspec": {
   "display_name": "Python 3",
   "language": "python",
   "name": "python3"
  },
  "language_info": {
   "codemirror_mode": {
    "name": "ipython",
    "version": 3
   },
   "file_extension": ".py",
   "mimetype": "text/x-python",
   "name": "python",
   "nbconvert_exporter": "python",
   "pygments_lexer": "ipython3",
   "version": "3.8.3"
  }
 },
 "nbformat": 4,
 "nbformat_minor": 4
}
